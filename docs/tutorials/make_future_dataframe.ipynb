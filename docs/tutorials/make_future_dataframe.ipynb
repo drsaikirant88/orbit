{
 "cells": [
  {
   "cell_type": "code",
   "execution_count": 1,
   "id": "2fc3bf59",
   "metadata": {
    "scrolled": true
   },
   "outputs": [],
   "source": [
    "%matplotlib inline\n",
    "import matplotlib.pyplot as plt\n",
    "\n",
    "import orbit\n",
    "from orbit.models import DLT\n",
    "from orbit.diagnostics.plot import plot_predicted_data, plot_predicted_components\n",
    "from orbit.utils.dataset import load_iclaims"
   ]
  },
  {
   "cell_type": "code",
   "execution_count": 2,
   "id": "8523d1a1",
   "metadata": {},
   "outputs": [
    {
     "name": "stdout",
     "output_type": "stream",
     "text": [
      "1.1.1dev\n"
     ]
    }
   ],
   "source": [
    "print(orbit.__version__)"
   ]
  },
  {
   "cell_type": "code",
   "execution_count": 3,
   "id": "708f750c",
   "metadata": {},
   "outputs": [],
   "source": [
    "# load log-transformed data\n",
    "df = load_iclaims()\n",
    "input_args = {\n",
    "    'response_col': 'claims',\n",
    "    'date_col': 'week',\n",
    "    'seasonality': 52,\n",
    "}\n",
    "\n",
    "mod = DLT(**input_args)"
   ]
  },
  {
   "cell_type": "code",
   "execution_count": 4,
   "id": "3b4695cb",
   "metadata": {},
   "outputs": [
    {
     "name": "stdout",
     "output_type": "stream",
     "text": [
      "\n",
      "Gradient evaluation took 0.00073 seconds\n",
      "1000 transitions using 10 leapfrog steps per transition would take 7.3 seconds.\n",
      "Adjust your expectations accordingly!\n",
      "\n",
      "\n",
      "\n",
      "Gradient evaluation took 0.000659 seconds\n",
      "1000 transitions using 10 leapfrog steps per transition would take 6.59 seconds.\n",
      "Adjust your expectations accordingly!\n",
      "\n",
      "\n",
      "\n",
      "Gradient evaluation took 0.000773 seconds\n",
      "1000 transitions using 10 leapfrog steps per transition would take 7.73 seconds.\n",
      "Adjust your expectations accordingly!\n",
      "\n",
      "\n",
      "\n",
      "Gradient evaluation took 0.000825 seconds\n",
      "1000 transitions using 10 leapfrog steps per transition would take 8.25 seconds.\n",
      "Adjust your expectations accordingly!\n",
      "\n",
      "\n",
      "Iteration:   1 / 250 [  0%]  (Warmup)\n",
      "Iteration:   1 / 250 [  0%]  (Warmup)\n",
      "Iteration:   1 / 250 [  0%]  (Warmup)\n",
      "Iteration:   1 / 250 [  0%]  (Warmup)\n",
      "Iteration:  25 / 250 [ 10%]  (Warmup)\n",
      "Iteration:  25 / 250 [ 10%]  (Warmup)\n",
      "Iteration:  25 / 250 [ 10%]  (Warmup)\n",
      "Iteration:  25 / 250 [ 10%]  (Warmup)\n",
      "Iteration:  50 / 250 [ 20%]  (Warmup)\n",
      "Iteration:  50 / 250 [ 20%]  (Warmup)\n",
      "Iteration:  50 / 250 [ 20%]  (Warmup)\n",
      "Iteration:  50 / 250 [ 20%]  (Warmup)\n",
      "Iteration:  75 / 250 [ 30%]  (Warmup)\n",
      "Iteration:  75 / 250 [ 30%]  (Warmup)\n",
      "Iteration:  75 / 250 [ 30%]  (Warmup)\n",
      "Iteration: 100 / 250 [ 40%]  (Warmup)\n",
      "Iteration: 100 / 250 [ 40%]  (Warmup)\n",
      "Iteration:  75 / 250 [ 30%]  (Warmup)\n",
      "Iteration: 100 / 250 [ 40%]  (Warmup)\n",
      "Iteration: 125 / 250 [ 50%]  (Warmup)\n",
      "Iteration: 125 / 250 [ 50%]  (Warmup)\n",
      "Iteration: 125 / 250 [ 50%]  (Warmup)\n",
      "Iteration: 150 / 250 [ 60%]  (Warmup)\n",
      "Iteration: 100 / 250 [ 40%]  (Warmup)\n",
      "Iteration: 150 / 250 [ 60%]  (Warmup)\n",
      "Iteration: 150 / 250 [ 60%]  (Warmup)\n",
      "Iteration: 175 / 250 [ 70%]  (Warmup)\n",
      "Iteration: 175 / 250 [ 70%]  (Warmup)\n",
      "Iteration: 125 / 250 [ 50%]  (Warmup)\n",
      "Iteration: 175 / 250 [ 70%]  (Warmup)\n",
      "Iteration: 200 / 250 [ 80%]  (Warmup)\n",
      "Iteration: 200 / 250 [ 80%]  (Warmup)\n",
      "Iteration: 200 / 250 [ 80%]  (Warmup)\n",
      "Iteration: 225 / 250 [ 90%]  (Warmup)\n",
      "Iteration: 226 / 250 [ 90%]  (Sampling)\n",
      "Iteration: 225 / 250 [ 90%]  (Warmup)\n",
      "Iteration: 226 / 250 [ 90%]  (Sampling)\n",
      "Iteration: 225 / 250 [ 90%]  (Warmup)\n",
      "Iteration: 250 / 250 [100%]  (Sampling)\n",
      "Iteration: 226 / 250 [ 90%]  (Sampling)\n",
      "\n",
      " Elapsed Time: 3.42592 seconds (Warm-up)\n",
      "               0.207946 seconds (Sampling)\n",
      "               3.63387 seconds (Total)\n",
      "\n",
      "Iteration: 250 / 250 [100%]  (Sampling)\n",
      "\n",
      " Elapsed Time: 3.54846 seconds (Warm-up)\n",
      "               0.199915 seconds (Sampling)\n",
      "               3.74838 seconds (Total)\n",
      "\n",
      "Iteration: 150 / 250 [ 60%]  (Warmup)\n",
      "Iteration: 250 / 250 [100%]  (Sampling)\n",
      "\n",
      " Elapsed Time: 3.63054 seconds (Warm-up)\n",
      "               0.197225 seconds (Sampling)\n",
      "               3.82776 seconds (Total)\n",
      "\n",
      "Iteration: 175 / 250 [ 70%]  (Warmup)\n",
      "Iteration: 200 / 250 [ 80%]  (Warmup)\n",
      "Iteration: 225 / 250 [ 90%]  (Warmup)\n",
      "Iteration: 226 / 250 [ 90%]  (Sampling)\n"
     ]
    },
    {
     "name": "stderr",
     "output_type": "stream",
     "text": [
      "WARNING:pystan:Maximum (flat) parameter count (1000) exceeded: skipping diagnostic tests for n_eff and Rhat.\n",
      "To run all diagnostics call pystan.check_hmc_diagnostics(fit)\n"
     ]
    },
    {
     "name": "stdout",
     "output_type": "stream",
     "text": [
      "Iteration: 250 / 250 [100%]  (Sampling)\n",
      "\n",
      " Elapsed Time: 4.7602 seconds (Warm-up)\n",
      "               0.203784 seconds (Sampling)\n",
      "               4.96399 seconds (Total)\n",
      "\n"
     ]
    },
    {
     "data": {
      "text/plain": [
       "<orbit.forecaster.full_bayes.FullBayesianForecaster at 0x10dd00050>"
      ]
     },
     "execution_count": 4,
     "metadata": {},
     "output_type": "execute_result"
    }
   ],
   "source": [
    "mod.fit(df)"
   ]
  },
  {
   "cell_type": "code",
   "execution_count": 5,
   "id": "ea6bf908",
   "metadata": {},
   "outputs": [],
   "source": [
    "future_df = mod.make_future_df(periods=10)"
   ]
  },
  {
   "cell_type": "code",
   "execution_count": 7,
   "id": "b29e00de",
   "metadata": {},
   "outputs": [
    {
     "data": {
      "text/html": [
       "<div>\n",
       "<style scoped>\n",
       "    .dataframe tbody tr th:only-of-type {\n",
       "        vertical-align: middle;\n",
       "    }\n",
       "\n",
       "    .dataframe tbody tr th {\n",
       "        vertical-align: top;\n",
       "    }\n",
       "\n",
       "    .dataframe thead th {\n",
       "        text-align: right;\n",
       "    }\n",
       "</style>\n",
       "<table border=\"1\" class=\"dataframe\">\n",
       "  <thead>\n",
       "    <tr style=\"text-align: right;\">\n",
       "      <th></th>\n",
       "      <th>week</th>\n",
       "      <th>prediction_5</th>\n",
       "      <th>prediction</th>\n",
       "      <th>prediction_95</th>\n",
       "    </tr>\n",
       "  </thead>\n",
       "  <tbody>\n",
       "    <tr>\n",
       "      <th>0</th>\n",
       "      <td>2018-07-01</td>\n",
       "      <td>12.258844</td>\n",
       "      <td>12.341663</td>\n",
       "      <td>12.418728</td>\n",
       "    </tr>\n",
       "    <tr>\n",
       "      <th>1</th>\n",
       "      <td>2018-07-08</td>\n",
       "      <td>12.365133</td>\n",
       "      <td>12.456733</td>\n",
       "      <td>12.525639</td>\n",
       "    </tr>\n",
       "    <tr>\n",
       "      <th>2</th>\n",
       "      <td>2018-07-15</td>\n",
       "      <td>12.226335</td>\n",
       "      <td>12.336411</td>\n",
       "      <td>12.435642</td>\n",
       "    </tr>\n",
       "    <tr>\n",
       "      <th>3</th>\n",
       "      <td>2018-07-22</td>\n",
       "      <td>12.076373</td>\n",
       "      <td>12.186544</td>\n",
       "      <td>12.273778</td>\n",
       "    </tr>\n",
       "    <tr>\n",
       "      <th>4</th>\n",
       "      <td>2018-07-29</td>\n",
       "      <td>11.977478</td>\n",
       "      <td>12.076117</td>\n",
       "      <td>12.177411</td>\n",
       "    </tr>\n",
       "    <tr>\n",
       "      <th>5</th>\n",
       "      <td>2018-08-05</td>\n",
       "      <td>12.056818</td>\n",
       "      <td>12.157859</td>\n",
       "      <td>12.230807</td>\n",
       "    </tr>\n",
       "    <tr>\n",
       "      <th>6</th>\n",
       "      <td>2018-08-12</td>\n",
       "      <td>11.987844</td>\n",
       "      <td>12.086248</td>\n",
       "      <td>12.189887</td>\n",
       "    </tr>\n",
       "    <tr>\n",
       "      <th>7</th>\n",
       "      <td>2018-08-19</td>\n",
       "      <td>11.968056</td>\n",
       "      <td>12.089429</td>\n",
       "      <td>12.187505</td>\n",
       "    </tr>\n",
       "    <tr>\n",
       "      <th>8</th>\n",
       "      <td>2018-08-26</td>\n",
       "      <td>11.978730</td>\n",
       "      <td>12.068159</td>\n",
       "      <td>12.167959</td>\n",
       "    </tr>\n",
       "    <tr>\n",
       "      <th>9</th>\n",
       "      <td>2018-09-02</td>\n",
       "      <td>12.131172</td>\n",
       "      <td>12.230346</td>\n",
       "      <td>12.348619</td>\n",
       "    </tr>\n",
       "  </tbody>\n",
       "</table>\n",
       "</div>"
      ],
      "text/plain": [
       "        week  prediction_5  prediction  prediction_95\n",
       "0 2018-07-01     12.258844   12.341663      12.418728\n",
       "1 2018-07-08     12.365133   12.456733      12.525639\n",
       "2 2018-07-15     12.226335   12.336411      12.435642\n",
       "3 2018-07-22     12.076373   12.186544      12.273778\n",
       "4 2018-07-29     11.977478   12.076117      12.177411\n",
       "5 2018-08-05     12.056818   12.157859      12.230807\n",
       "6 2018-08-12     11.987844   12.086248      12.189887\n",
       "7 2018-08-19     11.968056   12.089429      12.187505\n",
       "8 2018-08-26     11.978730   12.068159      12.167959\n",
       "9 2018-09-02     12.131172   12.230346      12.348619"
      ]
     },
     "execution_count": 7,
     "metadata": {},
     "output_type": "execute_result"
    }
   ],
   "source": [
    "mod.predict(future_df)"
   ]
  }
 ],
 "metadata": {
  "kernelspec": {
   "display_name": "orbit37",
   "language": "python",
   "name": "orbit37"
  },
  "language_info": {
   "codemirror_mode": {
    "name": "ipython",
    "version": 3
   },
   "file_extension": ".py",
   "mimetype": "text/x-python",
   "name": "python",
   "nbconvert_exporter": "python",
   "pygments_lexer": "ipython3",
   "version": "3.7.9"
  },
  "toc": {
   "base_numbering": 1,
   "nav_menu": {},
   "number_sections": true,
   "sideBar": true,
   "skip_h1_title": false,
   "title_cell": "Table of Contents",
   "title_sidebar": "Contents",
   "toc_cell": false,
   "toc_position": {},
   "toc_section_display": true,
   "toc_window_display": false
  }
 },
 "nbformat": 4,
 "nbformat_minor": 5
}
